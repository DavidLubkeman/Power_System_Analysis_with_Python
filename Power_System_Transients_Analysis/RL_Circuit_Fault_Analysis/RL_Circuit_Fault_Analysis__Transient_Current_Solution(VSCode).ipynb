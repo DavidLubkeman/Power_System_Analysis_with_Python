{
 "cells": [
  {
   "cell_type": "markdown",
   "id": "1cfc812a-cabe-4d54-bc5d-3e42093c526a",
   "metadata": {
    "slideshow": {
     "slide_type": "slide"
    },
    "tags": []
   },
   "source": [
    "<center> Power System Analysis with Python \n",
    "<br>\n",
    "Topic Area: Power System Transients\n",
    "</center>"
   ]
  },
  {
   "cell_type": "markdown",
   "id": "2c188fd0-c42d-4ca4-bec4-1667398e2cc0",
   "metadata": {
    "slideshow": {
     "slide_type": "slide"
    },
    "tags": []
   },
   "source": [
    "<center>\n",
    "\n",
    "# RL Circuit Fault Analysis - Transient Current Solution using Python\n",
    "<br>\n",
    "<center>\n",
    "<img src=\"images/PSAP Calculator.png\" alt=\"PSAP Calculator\" width=\"30%\" />\n",
    "</center>\n",
    "<br>\n",
    "<center>\n",
    "    \n",
    "## Dr. David Lubkeman\n",
    "\n"
   ]
  },
  {
   "cell_type": "markdown",
   "id": "36544a27-ef18-4892-866b-82213f313926",
   "metadata": {
    "slideshow": {
     "slide_type": "slide"
    },
    "tags": []
   },
   "source": [
    "## Introduction"
   ]
  },
  {
   "cell_type": "markdown",
   "id": "ce537689-3cfb-400e-82b3-5b7c2f40fddb",
   "metadata": {
    "slideshow": {
     "slide_type": "notes"
    },
    "tags": []
   },
   "source": [
    "In this presentation we will be looking at how to perform power system fault analysis (one-line diagram on left) using an RL circuit model in order to solve for the transient fault current (plot on right).\n",
    "\n",
    "We will start by deriving a closed-form equation for the transient behavior of an ideal single-phase fault on a radial power system. \n",
    "\n",
    "Then we will look at a Python programming example  for computing and plotting the fault characteristics.\n"
   ]
  },
  {
   "cell_type": "markdown",
   "id": "41ad2e67-ec14-4aea-af57-b7649a67dd11",
   "metadata": {
    "slideshow": {
     "slide_type": "fragment"
    },
    "tags": []
   },
   "source": [
    "\n",
    "<center>\n",
    "<img src=\"images/Transient Fault Analysis Objectives.png\" alt=\"Transient Fault Analysis Objectives\" width=\"100%\" />\n",
    "<br>    \n",
    "Figure - Transient Fault Analysis Objectives\n",
    "</center>"
   ]
  },
  {
   "cell_type": "markdown",
   "id": "7e1cf102-6b5b-4e48-b54d-70428f604871",
   "metadata": {
    "jp-MarkdownHeadingCollapsed": true,
    "slideshow": {
     "slide_type": "slide"
    },
    "tags": []
   },
   "source": [
    "### Presentation Format\n",
    "\n",
    "Presentation notes with Python programming examples are in Jupyter Notebook format (www.jupyter.org).\n",
    "\n",
    "You are encouraged to download a copy of this notebook from the Github site so you can follow along. A link to the site is provided in the video description.\n",
    "\n",
    "From the Github site you have the following options to view the notebook yourself:\n",
    "\n",
    "1. Source Notebook .ipynb file with image files.\n",
    "\n",
    "2. A Google Colab version is provided so you can run this notebook on a Google cloud server.\n",
    "\n",
    "3. Python code *.py version is provided so you can execute this notebook in a Python coding environment.\n",
    "\n",
    "4. PDF version with text and images only.\n",
    "\n",
    "\n",
    "  \n"
   ]
  },
  {
   "cell_type": "markdown",
   "id": "53cd10c0-c58b-48e2-a95c-de96b352732c",
   "metadata": {
    "id": "PhQZ3vJzhCgS",
    "slideshow": {
     "slide_type": "slide"
    },
    "tags": []
   },
   "source": [
    "### Fault Analysis Scenario"
   ]
  },
  {
   "cell_type": "markdown",
   "id": "7ca57049-3503-4fef-ac8f-c51c1a9f06a3",
   "metadata": {
    "id": "PhQZ3vJzhCgS",
    "slideshow": {
     "slide_type": "notes"
    },
    "tags": []
   },
   "source": [
    "The scenario we will be analyzing is a single-source radial system with fault location as illustrated below.\n",
    "\n",
    "In this scenario we have a \n",
    "- Power system with voltage source and source impedance Z\n",
    "- Single-phase fault modeled by an ideal switch\n",
    "- Circuit breaker set up to clear a fault\n",
    "- Relay that monitors the breaker current, detects the fault and sends open and close commands to the breaker.\n",
    "\n"
   ]
  },
  {
   "cell_type": "markdown",
   "id": "ff05ae8c-eade-4e31-a495-42ee928ec898",
   "metadata": {
    "id": "PhQZ3vJzhCgS",
    "slideshow": {
     "slide_type": "fragment"
    },
    "tags": []
   },
   "source": [
    "<center>\n",
    "<img src=\"images/RL Fault Circuit with Relay.png\" alt=\"RL Fault Circuit with Relay\" width=\"70%\" />\n",
    "<br>\n",
    "Figure - RL Fault Circuit with Relay\n",
    "</center>"
   ]
  },
  {
   "cell_type": "markdown",
   "id": "049ece88-3c52-4822-9745-284b4aa58efa",
   "metadata": {
    "slideshow": {
     "slide_type": "slide"
    },
    "tags": []
   },
   "source": [
    "### Fault Current Characteristics"
   ]
  },
  {
   "cell_type": "markdown",
   "id": "e3a46735-8bbe-4395-9987-70a40be98bd6",
   "metadata": {
    "slideshow": {
     "slide_type": "notes"
    },
    "tags": []
   },
   "source": [
    "An example fault measurement for a medium-voltage circuit is shown below.\n",
    "\n",
    "Note that we have\n",
    "- A prefault load current\n",
    "- A peak instantaneous current magnitude ( > interrupting current)\n",
    "- A steady-state current to be interrupted by protection device\n",
    "\n",
    "We want to be able to predict this fault current based on the circuit model.\n"
   ]
  },
  {
   "cell_type": "markdown",
   "id": "e0848c85-69e6-42e7-b4b3-d57ff20fffb6",
   "metadata": {
    "slideshow": {
     "slide_type": "fragment"
    },
    "tags": []
   },
   "source": [
    "\n",
    "<center>\n",
    "<img src=\"images/Distribution Fault Current Measurement.png\" alt=\"Distribution Fault Current Measurement\" width=\"70%\" />\n",
    "<br>\n",
    "Figure - Actual Fault Current Measurement   \n",
    "</center>"
   ]
  },
  {
   "cell_type": "markdown",
   "id": "c02e2163-aecd-464d-8fee-dbec1ce6e81b",
   "metadata": {
    "id": "MGI3LjZYljMH",
    "slideshow": {
     "slide_type": "slide"
    },
    "tags": []
   },
   "source": [
    "### RL Fault Circuit Model"
   ]
  },
  {
   "cell_type": "markdown",
   "id": "cfa9c543-a3a6-404d-9af3-0ca4e6dbaed3",
   "metadata": {
    "id": "MGI3LjZYljMH",
    "slideshow": {
     "slide_type": "notes"
    },
    "tags": []
   },
   "source": [
    "The equivalent RL circuit model is shown below. Note that:\n",
    "\n",
    "-   Calculation based on a Thevenin equivalent circuit as seen from\n",
    "    point of fault\n",
    "-   Equivalent voltage corresponds to\n",
    "    ${v_s}\\left( t \\right) = \\sqrt 2 {V_M}\\sin \\left( {\\omega t + \\theta } \\right)$\n",
    "    where ${V_M}$ is the per-phase nominal voltage RMS magnitude and\n",
    "    $\\theta$ is the point on wave angle for the fault\n",
    "-   Equivalent series R and L are self-impedances for the faulted phase\n",
    "-   Will initially consider a no load case, so prefault current is 0\n",
    "-   Format equations assuming fault occurs at time, t=0\n",
    "-   Since inductor current cannot change instantaneously, then $i(t=0) = 0$\n",
    "\n",
    "    \n"
   ]
  },
  {
   "cell_type": "markdown",
   "id": "63e8340f-1036-40b9-98cf-059937d584a3",
   "metadata": {
    "id": "MGI3LjZYljMH",
    "slideshow": {
     "slide_type": "fragment"
    },
    "tags": []
   },
   "source": [
    "\n",
    "<center>\n",
    "<img src=\"images/RL Fault Circuit Model.png\" alt=\"RL Fault Circuit Model\" width=\"80%\" />\n",
    "\n",
    "<br>\n",
    "Figure - RL Fault Circuit Model\n",
    "</center>\n"
   ]
  },
  {
   "cell_type": "markdown",
   "id": "d3d3dfb0-76c0-49a3-bb68-32eaab70fc30",
   "metadata": {
    "id": "fsfFYME8haBT",
    "slideshow": {
     "slide_type": "slide"
    },
    "tags": []
   },
   "source": [
    "## Ordinary Differential Equation (ODE) for Fault Current\n",
    "\n",
    "When the switch modeling the fault closes at $t=0$, then we have a basic\n",
    "loop circuit where current is related to the source voltage by\n",
    "\n",
    "\n",
    "$$ L\\frac{{di}}{{dt}} + Ri = \\sqrt 2 {V_M}\\sin \\left( {\\omega t + \\theta } \\right) \\tag{1} $$\n",
    "\n",
    "with a boundary condition for current $i(0) = 0$\n",
    "\n",
    "In this formulation, the point on wave angle $\\theta$ is adjusted to\n",
    "give us the desired voltage at $t=0$.\n",
    "\n",
    "So for example, a fault occurring during a point on wave equal to the\n",
    "peak voltage has $\\theta =90$ degrees."
   ]
  },
  {
   "cell_type": "markdown",
   "id": "51d61f7f-c46e-4dea-977e-08ffeda8e957",
   "metadata": {
    "id": "32m66t4BhaBU",
    "jp-MarkdownHeadingCollapsed": true,
    "slideshow": {
     "slide_type": "slide"
    },
    "tags": []
   },
   "source": [
    "### ODE Solution Components\n",
    "\n",
    "For this linear RL circuit, the solution has a steady-state\n",
    "component and a transient component as follows:\n",
    "$$i\\left( t \\right) = {i_{ss}}\\left( t \\right) + {i_{tr}}\\left( t \\right) \\tag{2}$$\n",
    "where\n",
    "\n",
    "-   Steady-state component (ss), also referred to as the particular\n",
    "    solution, corresponds to what occurs in steady-state due to the\n",
    "    sinusoidal forcing function.\n",
    "\n",
    "-   Transient component (tr), also referred to as the complementary\n",
    "    solution, has a form that can be obtained by looking at the natural\n",
    "    response of the circuit without a forcing function.\n"
   ]
  },
  {
   "cell_type": "markdown",
   "id": "a3c36d98-b73f-4623-9389-43ffdf05a4d7",
   "metadata": {
    "id": "X7NK3JHOhaBU",
    "slideshow": {
     "slide_type": "slide"
    },
    "tags": []
   },
   "source": [
    "### Steady-State Solution Component"
   ]
  },
  {
   "cell_type": "markdown",
   "id": "e377f7d8-3bef-4f10-bf87-0d042ba14599",
   "metadata": {
    "id": "X7NK3JHOhaBU",
    "slideshow": {
     "slide_type": "fragment"
    },
    "tags": []
   },
   "source": [
    "To obtain the steady-state component of the solution, perform a phasor\n",
    "analysis using the circuit shown below and convert the result back to\n",
    "the time domain. \n",
    "\n",
    "\n",
    "<center>\n",
    "<img src=\"images/RL Transient Steady-State Model.png\" alt=\"RL Transient Steady-State Model\" width=\"70%\" />\n",
    "<br>\n",
    "Figure - RL Transient Steady-State Model\n",
    "</center>"
   ]
  },
  {
   "cell_type": "markdown",
   "id": "807ea911-d1f0-4b20-bcb1-6cab4a6260d2",
   "metadata": {
    "id": "X7NK3JHOhaBU",
    "slideshow": {
     "slide_type": "fragment"
    },
    "tags": []
   },
   "source": [
    "The circuit impedance is given by:\n",
    "$$Z = R + j\\omega L = \\sqrt {{R^2} + {{\\left( {\\omega L} \\right)}^2}} \\angle \\phi \\tag{3} $$\n",
    "$$  \\phi  = {\\tan ^{ - 1}}\\left( {\\frac{{\\omega L}}{R}} \\right) \\tag{4} $$\n",
    "\n",
    "Solving for the steady-state current phasor (RMS magnitude) results in\n",
    "$${\\tilde I_{ss}} = \\frac{{{V_M}\\angle \\theta }}{Z} = \\frac{{{V_M}}}{{\\sqrt {{R^2} + {{\\left( {\\omega L} \\right)}^2}} }}\\angle \\theta  - \\phi \\tag{5}$$\n",
    "\n",
    "In the time domain this converts back to\n",
    "$$ {i_{ss}}(t) = \\frac{{\\sqrt 2 {V_M}}}{{\\sqrt {{R^2} + {{\\left( {\\omega L} \\right)}^2}} }}\\sin \\left( {\\omega t + \\theta  - \\phi } \\right) \\tag{6}$$"
   ]
  },
  {
   "cell_type": "markdown",
   "id": "03451e8c-ce31-4500-8b5f-9c601707e726",
   "metadata": {
    "id": "kq6IOVcL5qaB",
    "slideshow": {
     "slide_type": "slide"
    },
    "tags": []
   },
   "source": [
    "### Steady-State Solution Waveform"
   ]
  },
  {
   "cell_type": "markdown",
   "id": "5e6cdec5-10e1-4260-8aad-424aa2d3cfa6",
   "metadata": {
    "id": "kq6IOVcL5qaB",
    "slideshow": {
     "slide_type": "notes"
    },
    "tags": []
   },
   "source": [
    "Plot below shows an example steady-state fault current.\n",
    "\n",
    "Note how this waveform is symmetrical about the y-axis, which is why\n",
    "this is referred to as the \"symmetrical current\".\n",
    "\n",
    "The RMS magnitude of this current is used to size the interrupting\n",
    "capability of the circuit breaker.\n",
    "\n",
    "The RMS magnitude is also used for protection coordination with upstream\n",
    "and downstream protection devices."
   ]
  },
  {
   "cell_type": "markdown",
   "id": "3b2bd39f-ceaa-4766-8223-0fd385a761e8",
   "metadata": {
    "id": "kq6IOVcL5qaB",
    "slideshow": {
     "slide_type": "fragment"
    },
    "tags": []
   },
   "source": [
    "\n",
    "<center>\n",
    "<img src=\"images/Symmetrical Fault Current Example.png\" alt=\"Symmetrical Fault Current Example.png\" width=\"50%\" />\n",
    "<br>\n",
    "Figure - Symmetrical Fault Current Example\n",
    "</center>"
   ]
  },
  {
   "cell_type": "markdown",
   "id": "4881cb9b-0164-49cd-a7d0-02b9459e3b32",
   "metadata": {
    "id": "_hDg-Ep0751e",
    "slideshow": {
     "slide_type": "slide"
    },
    "tags": []
   },
   "source": [
    "### But Solution is Still Incomplete!"
   ]
  },
  {
   "cell_type": "markdown",
   "id": "af008910-dd64-4a5b-af78-8fdbb4607ebe",
   "metadata": {
    "id": "_hDg-Ep0751e",
    "slideshow": {
     "slide_type": "notes"
    },
    "tags": []
   },
   "source": [
    "We can see that the above steady-state solution is incomplete since the\n",
    "boundary condition of $i(0) = 0$ is not satisfied.\n",
    "\n",
    "If we just computed the steady-state component, we see an instantaneous\n",
    "jump in the current when the fault is applied.\n",
    "\n",
    "This is not possible since current cannot change instantaneously in the\n",
    "series inductance.\n",
    "\n",
    "So we need to model the transition from a steady-state prefault circuit\n",
    "to a steady-state faulted circuit by including the transient component."
   ]
  },
  {
   "cell_type": "markdown",
   "id": "cc097ff3-1eab-456b-9b99-d6179aa68535",
   "metadata": {
    "id": "RlP5JqiBhaBV",
    "slideshow": {
     "slide_type": "slide"
    },
    "tags": []
   },
   "source": [
    "### Transient Component Equation"
   ]
  },
  {
   "cell_type": "markdown",
   "id": "af344a98-02a3-4862-9a74-565b718801a3",
   "metadata": {
    "id": "RlP5JqiBhaBV",
    "slideshow": {
     "slide_type": "fragment"
    },
    "tags": []
   },
   "source": [
    "The transient component of the solution is found by solving the circuit\n",
    "shown below, which has no forcing function. \n",
    "\n",
    "<center>\n",
    "<img src=\"images/RL Transient Natural Response Model.png\" alt=\"RL Transient Natural Response Model\" width=\"70%\" />\n",
    "<br>\n",
    "Figure - RL Transient Natural Response Model\n",
    "</center>"
   ]
  },
  {
   "cell_type": "markdown",
   "id": "a2cdbd11-d057-4a77-b113-f7984233fd33",
   "metadata": {
    "id": "RlP5JqiBhaBV",
    "slideshow": {
     "slide_type": "fragment"
    },
    "tags": []
   },
   "source": [
    "The equation to be solved is\n",
    "\n",
    "$$ L\\frac{{di}}{{dt}} + Ri = 0 \\tag{7}$$\n",
    "\n",
    "Solution to this equation is of the form $i(t)=A{e^{st}}$ where $A$ is a\n",
    "constant depending on the state of the circuit at $t=0$ and s is a complex number.\n",
    "\n",
    "If we substitute exponential expression into Equation (7) to get\n",
    "$$ L\\frac{{d\\left( {A{e^{st}}} \\right)}}{{dt}} + R\\left( {A{e^{st}}} \\right) = sL\\left( {A{e^{st}}} \\right) + R\\left( {A{e^{st}}} \\right) = 0 \\tag{8}$$\n",
    "\n",
    "then divide\n",
    "both sides of equality by $A{e^{st}}$, we obtain what is referred to as\n",
    "the characteristic equation for the natural response\n",
    "$$ \\left( {s + \\frac{R}{L}} \\right) = 0  \\tag{9} $$\n",
    "where \n",
    "$$ s =  - \\frac{R}{L} \\tag{10} $$"
   ]
  },
  {
   "cell_type": "markdown",
   "id": "22c9e42c-d5a9-4879-b5aa-94b97d6ace95",
   "metadata": {
    "id": "-bTwbCG8haBW",
    "slideshow": {
     "slide_type": "slide"
    },
    "tags": []
   },
   "source": [
    "### Transient Component Solution Impact\n",
    "\n",
    "Transient component of the solution given by\n",
    "$$  {i_{tr}}\\left( t \\right) = A{e^{ - \\left( {R/L} \\right)t}} \\tag{11}$$\n",
    "\n",
    "The total solution for the fault current is the sum of the steady-state\n",
    "and transient components:\n",
    "\n",
    "$$i(t) = {i_{ss}} + {i_{tr}} = \\frac{{\\sqrt 2 {V_M}}}{{\\sqrt {{R^2} + {{\\left( {\\omega L} \\right)}^2}} }}\\sin \\left( {\\omega t + \\theta  - \\varphi } \\right) + A{e^{ - \\left( {R/L} \\right)t}} \\tag{12}$$\n",
    "\n",
    "The constant $A$ must still be determined by applying initial circuit\n",
    "condition of $i(t=0)=0$.\n",
    "\n",
    "Note that the exponential term will add an exponentially decaying DC\n",
    "component to the steady-state current that satisfies the initial current\n",
    "constraint."
   ]
  },
  {
   "cell_type": "markdown",
   "id": "5abd695c-d3a1-44c0-a055-0f408ea2e6db",
   "metadata": {
    "id": "FQDydHhshaBX",
    "slideshow": {
     "slide_type": "slide"
    },
    "tags": []
   },
   "source": [
    "### Application of Boundary Conditions\n",
    "\n",
    "Since the current flowing through the inductor cannot change\n",
    "instantaneously, then current before and after switching at $t=0$ is\n",
    "defined by:\n",
    "\n",
    "$$ i\\left( {{0^ - }} \\right) = i\\left( {{0^ + }} \\right) = 0 \\tag{13}$$\n",
    "\n",
    "When we apply this initial condition at $t=0$ to solve for $A$, we find that\n",
    "$$ A = - \\frac{{\\sqrt 2 {V_M}}}{{\\sqrt {{R^2} + {{\\left( {\\omega L} \\right)}^2}} }}\\sin \\left( {\\theta - \\varphi } \\right) \\tag{14}$$\n",
    "\n",
    "giving us a final solution of $$ \\begin{array}{l}\n",
    "i\\left( t \\right) = \\frac{{\\sqrt 2 {V_M}}}{{\\sqrt {{R^2} + {{\\left( {\\omega L} \\right)}^2}} }}\\left( {\\sin \\left( {\\omega t + \\theta  - {{\\tan }^{ - 1}}\\left( {\\frac{{\\omega L}}{R}} \\right)} \\right)} \\right.\\\\\n",
    "\\left. {\\quad \\quad \\quad \\quad \\quad \\quad \\quad  - \\sin \\left( {\\theta  - {{\\tan }^{ - 1}}\\left( {\\frac{{\\omega L}}{R}} \\right)} \\right){e^{ - \\frac{R}{L}t}}} \\right)\n",
    "\\end{array} \\tag{15}$$\n",
    "\n",
    "Observe that the current is not only dependent on ${V_M}$, R and L, but\n",
    "point on wave angle $\\theta$ for voltage as well."
   ]
  },
  {
   "cell_type": "markdown",
   "id": "0bf902c2-2e4e-42fa-b3a7-ea15f48b891c",
   "metadata": {
    "id": "Kl1jRQO4haBX",
    "slideshow": {
     "slide_type": "slide"
    },
    "tags": []
   },
   "source": [
    "## Python Code for Fault Current (using Math library)\n",
    "\n",
    "Applying the Equations (1)-(15), we can calculate and plot the current\n",
    "using the example Python code provided below.\n",
    "\n",
    "You can adjust the circuit parameters R, X, Vm, f, $\\theta$ as needed. Note that\n",
    "reactance is normally given as input, so need to convert this to\n",
    "inductance.\n",
    "\n",
    "In this example code, the (1) fault current is plotted with the solid\n",
    "curve and the (2) steady-state and (3) transient components are plotted\n",
    "with dashed curves.\n",
    "\n",
    "Plot broken into 3 curves to show that the transient component adds a\n",
    "decaying DC offset to the sinusoidal steady-state current.\n",
    "\n",
    "Note code utilizes List data structures and Math library for basic\n",
    "mathematical functions."
   ]
  },
  {
   "cell_type": "code",
   "execution_count": 1,
   "id": "0c62b1dc-7a06-465c-b3d4-e914c459b15f",
   "metadata": {
    "colab": {
     "base_uri": "https://localhost:8080/",
     "height": 619
    },
    "id": "iOaw3p0EhaBY",
    "outputId": "cb6b4b0d-75de-4216-b05e-fbc827818029",
    "slideshow": {
     "slide_type": "slide"
    },
    "tags": []
   },
   "outputs": [
    {
     "name": "stdout",
     "output_type": "stream",
     "text": [
      "Vm: 13856 R: 0.8 L: 0.01061 theta(degrees): 0.0\n"
     ]
    },
    {
     "data": {
      "image/png": "[encoded data removed]",
      "text/plain": [
       "<Figure size 1000x800 with 2 Axes>"
      ]
     },
     "metadata": {},
     "output_type": "display_data"
    },
    {
     "name": "stdout",
     "output_type": "stream",
     "text": [
      "Peak instantaneous value of fault current: 7447 A\n",
      "Peak steady-state value of fault current: 4804 A\n",
      "I_asym to I_sym ratio: 1.55 for X/R ratio: 5.00\n"
     ]
    }
   ],
   "source": [
    "# Python code for computing fault current assuming a single-phase source\n",
    "# with reactance X and resistance R. Voltage source defined by line voltage Vm, frequency f\n",
    "# and fault point on wave (POW) angle theta.\n",
    "\n",
    "import math # https://docs.python.org/3/library/math.html\n",
    "import matplotlib.pyplot as plt     # https://matplotlib.org/\n",
    "\n",
    "def current_vs_time(t, Vm, R, X, w, L, theta):\n",
    "    \"\"\"Calculate current i as a function of time t for a single-phase fault.\n",
    "    Returns 3 values for current: (i) total current (ii) steady-state component\n",
    "    (iii) transient component.\"\"\"\n",
    "    vsource = math.sqrt(2) * Vm * math.sin(w * t +theta)\n",
    "    Imag = math.sqrt(2) * Vm / math.sqrt(R**2 + X**2)  # Steady-state peak magnitude\n",
    "    i_ss = math.sin(w * t + theta - math.atan(w * L / R)) # Steady-state component\n",
    "    i_tr = math.sin(theta - math.atan(w * L / R)) * math.exp(-(R / L) * t) # Transient decay\n",
    "    return Imag * (i_ss - i_tr), Imag*i_ss, -Imag*i_tr, vsource\n",
    "\n",
    "def plot_current_components(t_values, itotal_values, iss_values, itr_values, vsource_values):\n",
    "    \"\"\"Plot the current components vs time\"\"\"\n",
    "    fig, ax = plt.subplots(2, 1, figsize=(10, 8))\n",
    "\n",
    "    ax[0].plot(t_values, vsource_values, color='blue', label='Voltage Source')\n",
    "    ax[0].set_ylabel('Voltage (V)')\n",
    "    ax[0].legend(loc='upper right')\n",
    "\n",
    "    ax[1].plot(t_values, itotal_values, color='blue', label='Total Current')\n",
    "    ax[1].plot(t_values, iss_values, color='red', linestyle='--', label='Steady-state Current')\n",
    "    ax[1].plot(t_values, itr_values, color='green', linestyle='--', label='Transient Current')\n",
    "    ax[1].set_xlabel('Time (sec)')\n",
    "    ax[1].set_ylabel('Current (A)')\n",
    "    ax[1].legend(loc='upper right')\n",
    "\n",
    "    plt.show()\n",
    "\n",
    "\n",
    "# Parameters\n",
    "Vm = 24000/math.sqrt(3)  # 24kV line voltage, divide by sqrt(3) to get line-to-neutral\n",
    "R = 0.8   # Representative R and X for source in Ohms\n",
    "X = 4.0   # X/R ratio = 5\n",
    "X_to_R_ratio = X/R\n",
    "f = 60.0 # fundamental frequency, could also set to 50 Hz\n",
    "w = 2 * math.pi * f  # Angular frequency\n",
    "L = X/w  # Inductance in Henries\n",
    "theta = (0/4)*math.pi  # In radians! Point on wave angle for fault; assume to be zero for now\n",
    "\n",
    "# Values for Benchmarking\n",
    "print(f\"Vm: {Vm:.0f} R: {R:.1f} L: {L:0.5} theta(degrees): {(theta*180/math.pi):0.1f}\")\n",
    "\n",
    "# Time values list corresponding to 6 cycles of ac voltage source waveform\n",
    "# Resolution set to 1024 points per cycle\n",
    "t_values = [] # Set list to Null\n",
    "\n",
    "for i in range(6*1024): # Adjust the time range and number of points as neededSkip to left side bar\n",
    "    t_values.append(i * (1/f) / 1024)  # Delta t = (period in sec)/(samples per sec)\n",
    "\n",
    "# Note can simplify 'for' loop above using List Comprehension\n",
    "#t_values = [i * (1/f) / 1024 for i in range(6*1024)]\n",
    "\n",
    "# Calculate current component values, put into list format\n",
    "itotal_values = []\n",
    "iss_values = []\n",
    "itr_values = []\n",
    "vsource_values = []\n",
    "for t in t_values:\n",
    "    i_total, i_ss, i_tr, vsource = current_vs_time(t, Vm, R, X, w, L, theta)\n",
    "    itotal_values.append(i_total)\n",
    "    iss_values.append(i_ss)\n",
    "    itr_values.append(i_tr)\n",
    "    vsource_values.append(vsource)\n",
    "\n",
    "# Note can simplify for loop above by using List Comprehension.\n",
    "# The 'zip' function returns a zip object, which is an iterator of tuples.\n",
    "# This is needed since we are computing 3 different current lists for the plotting.\n",
    "#itotal_values, iss_values, itr_values = zip(*[current_vs_time(t, Vm, R, X, w, L, theta) for t in t_values])\n",
    "\n",
    "# Plot fault  current components\n",
    "plot_current_components(t_values, itotal_values, iss_values, itr_values, vsource_values)\n",
    "\n",
    "# Search current results to find instantaneous peak and steady-state peak and use\n",
    "# these values to compute asymmetrical (instantaneous) peak to symmetrical (steady-state)\n",
    "# peak ratio.\n",
    "asymmetrical_current_peak = max(abs(x) for x in itotal_values)\n",
    "print(f\"Peak instantaneous value of fault current: {asymmetrical_current_peak:.0f} A\")\n",
    "\n",
    "symmetrical_current_peak = max(abs(x) for x in iss_values)\n",
    "print(f\"Peak steady-state value of fault current: {symmetrical_current_peak:.0f} A\")\n",
    "\n",
    "Iasym_Isym_ratio = asymmetrical_current_peak/symmetrical_current_peak\n",
    "print(f\"I_asym to I_sym ratio: {Iasym_Isym_ratio:.2f} for X/R ratio: {X_to_R_ratio:.2f}\")\n"
   ]
  },
  {
   "cell_type": "markdown",
   "id": "6e6f2fb7-683d-4d0e-8a6b-20f75e79ec6c",
   "metadata": {
    "id": "k0W5vXtXhaBZ",
    "slideshow": {
     "slide_type": "slide"
    },
    "tags": []
   },
   "source": [
    "### Fault Current Simulation Takeaways\n",
    "\n",
    "- There is an asymmetrical addition to the symmetrical fault current that must be factored into the circuit breaker instantaneous withstand rating.\n",
    "\n",
    "- In the time it takes to interrupt the fault (after several cycles), the DC offset current component will have typically decayed out. So by the time the circuit\n",
    "breaker operates open, the breaker just needs to interrupt the steady-state AC component of the fault current.\n",
    "\n",
    "- If we adjust the voltage point on wave angle $\\theta$, we get the following results:\n",
    "<center>DC Transient Offset as function of Theta</center>\n",
    "\n",
    "<center>\n",
    "\n",
    "| Theta (deg)  | 0    | 45   | 90   | 135  | 180  |\n",
    "|--------------|------|------|------|------|------|\n",
    "| I_asym (A)   | 7447 | 6547 | 5186 | 6715 | 7447 |\n",
    "| I_sym (A)    | 4804 | 4804 | 4804 | 4804 | 4804 |\n",
    "| I_asym/I_sym | 1.55 | 1.36 | 1.08 | 1.40 | 1.55 |\n",
    "</center>\n",
    "\n",
    "- From the above table, once can see that amount of transient DC offset is dependent on the voltage\n",
    "point on wave at which the fault occurs.\n",
    "\n",
    "- The worst case current peak occurs when $\\theta$ = 0 or $\\pi$.  This condition corresponds to worst case charging of the inductor from its initial value of 0 Amperes.\n",
    "\n"
   ]
  },
  {
   "cell_type": "markdown",
   "id": "926f3cff-12d6-4fb3-a3d5-06858be66d38",
   "metadata": {
    "slideshow": {
     "slide_type": "slide"
    },
    "tags": []
   },
   "source": [
    "### Benchmarking Python Simulation using PSCAD\n",
    "\n",
    "Whenever you write your own simulation code, it is helpful to benchmark\n",
    "the results using either a commericial analysis program or a case study\n",
    "with complete results.\n",
    "\n",
    "In this case we will compare the Python results \n",
    "with PSCAD Free (<https://www.pscad.com/software/pscad/free-edition>).\n",
    "\n",
    "PSCAD is specifically designed for power system transient analysis. The\n",
    "'Free' version is a reduced-capability version released for\n",
    "noncommerical purposes, such as university courses.\n"
   ]
  },
  {
   "cell_type": "markdown",
   "id": "106c388d-b503-4690-94d1-d72d50672618",
   "metadata": {
    "slideshow": {
     "slide_type": "slide"
    },
    "tags": []
   },
   "source": [
    "### PSCAD Simulation Circuit Model\n",
    "\n",
    "<center>\n",
    "<img src=\"images/Benchmark Circuit.png\" alt=\"Benchmark Circuit\" width=\"60%\" />\n",
    "</center>"
   ]
  },
  {
   "cell_type": "markdown",
   "id": "7eefa7ed-e643-43a6-af3c-a4225261db57",
   "metadata": {
    "slideshow": {
     "slide_type": "slide"
    },
    "tags": []
   },
   "source": [
    "### PSCAD Simulation Results\n",
    "\n",
    "The case below is for $\\theta = 0$ degrees.  \n",
    "\n",
    "From PSCAD we get I_asym= 7442 and I_sym = 4804, which match closely with the Python simulation. \n",
    "\n",
    "<center>\n",
    "<img src=\"images/Benchmark Plots.png\" alt=\"Benchmark Plots.png\" width=\"80%\" />\n",
    "</center>"
   ]
  },
  {
   "cell_type": "markdown",
   "id": "fc50fe60-8c18-4c07-8341-55feae63b06e",
   "metadata": {
    "id": "1UrDTc_ohaB4",
    "slideshow": {
     "slide_type": "slide"
    },
    "tags": []
   },
   "source": [
    "## Summary - Fault Current Transient Solution\n",
    "\n",
    "For a single-phase fault on a radial power system with RL equivalent impedance and no prefault load, then with a voltage\n",
    "source defined by:\n",
    "\n",
    "$$ {v_s}\\left( t \\right) = \\sqrt 2 {V_M}\\sin \\left( {\\omega t + \\theta } \\right) $$\n",
    "\n",
    "the fault current starting at t=0 will have the form:\n",
    "\n",
    "$$\n",
    "i\\left( t \\right) = \\frac{{\\sqrt 2 {V_M}}}{{\\sqrt {{R^2} + {{\\left( {\\omega L} \\right)}^2}} }}\\left( {\\sin \\left( {\\omega t + \\theta  - {{\\tan }^{ - 1}}\\left( {\\frac{{\\omega L}}{R}} \\right)} \\right) - \\sin \\left( {\\theta  - {{\\tan }^{ - 1}}\\left( {\\frac{{\\omega L}}{R}} \\right)} \\right){e^{ - \\frac{R}{L}t}}} \\right)\n",
    "$$\n",
    "\n",
    "This single-phase fault current current is characterized by:\n",
    "\n",
    "-   Steady-state sinusoidal component\n",
    "    (also referred to as the symmetrical current).\n",
    "-   An additional DC component that decays exponentially.\n",
    "- The sum total of these components gives us the net asymmetrical current.\n",
    "-   The DC component puts additional stress on the circuit breaker during the first cycle of the fault."
   ]
  },
  {
   "cell_type": "markdown",
   "id": "e179b61c-4d87-4daf-b545-b3835848ea1e",
   "metadata": {
    "id": "GxX6nR_ohaB4",
    "slideshow": {
     "slide_type": "notes"
    },
    "tags": []
   },
   "source": [
    "<center>© 2024 Dr. David Lubkeman</center>"
   ]
  }
 ],
 "metadata": {
  "colab": {
   "provenance": []
  },
  "kernelspec": {
   "display_name": "Python 3 (ipykernel)",
   "language": "python",
   "name": "python3"
  },
  "language_info": {
   "codemirror_mode": {
    "name": "ipython",
    "version": 3
   },
   "file_extension": ".py",
   "mimetype": "text/x-python",
   "name": "python",
   "nbconvert_exporter": "python",
   "pygments_lexer": "ipython3",
   "version": "3.11.7"
  },
  "toc-autonumbering": false,
  "toc-showtags": false,
  "varInspector": {
   "cols": {
    "lenName": "16",
    "lenType": "16",
    "lenVar": "40"
   },
   "kernels_config": {
    "python": {
     "delete_cmd_postfix": "",
     "delete_cmd_prefix": "del",
     "library": "var_list.py",
     "varRefreshCmd": "print(var_dic_list())"
    },
    "r": {
     "delete_cmd_postfix": ")",
     "delete_cmd_prefix": "rm(",
     "library": "var_list.r",
     "varRefreshCmd": "cat(var_dic_list())"
    }
   },
   "types_to_exclude": [
    "module",
    "function",
    "builtin_function_or_method",
    "instance",
    "_Feature"
   ],
   "window_display": false
  }
 },
 "nbformat": 4,
 "nbformat_minor": 5
}
