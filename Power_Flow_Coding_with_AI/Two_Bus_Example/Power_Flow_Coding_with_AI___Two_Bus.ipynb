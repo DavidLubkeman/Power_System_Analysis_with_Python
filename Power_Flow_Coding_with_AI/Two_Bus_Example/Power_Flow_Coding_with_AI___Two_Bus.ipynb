{
 "cells": [
  {
   "cell_type": "markdown",
   "id": "c0ca4192-2b90-4c5a-90d9-a260743b0901",
   "metadata": {},
   "source": [
    "<center> Power System Analysis with Python \n",
    "<br>\n",
    "Topic Area: Power System Coding with AI\n",
    "</center>"
   ]
  },
  {
   "cell_type": "markdown",
   "id": "5b23ee3f-faf9-4982-9844-a20bb62f2bdf",
   "metadata": {},
   "source": [
    "<center>\n",
    "\n",
    "# Power Flow Coding with AI - Two-Bus Example\n",
    "\n",
    "<center>\n",
    "    \n",
    "## Dr. David Lubkeman"
   ]
  },
  {
   "cell_type": "markdown",
   "id": "8b258c91-ee57-47db-af6c-ee205ed3c2ce",
   "metadata": {
    "tags": []
   },
   "source": [
    "# Example 1: Request with Minimal Requirements\n",
    "\n",
    "Generate a Python program for analyzing a simple two-bus three-phase power system with buses Bus_1 and Bus_2.  Bus_1 connects to an ideal generation source while Bus_2 connects to a constant power load.  Bus_1 and Bus_2 are interconnected by a transmission line. \n",
    "\n",
    "The system parameters are as follows:\n",
    "1. Bus_1 Generation source line voltage V_source: 230 kV\n",
    "2. Bus_1 to Bus_2 Transmission line resistance R: 5.33232 Ohms\n",
    "3. Bus_1 to Bus_2 Transmission line reactance X: 26.6616 Ohms\n",
    "4. Bus_2 load real power consumption P_load: 170.0 MW\n",
    "5. Bus_2 load reactive power consumption Q_load: 105.35 MVAR\n",
    "\n",
    "Program Requirements:\n",
    "\n",
    "1.The accuracy for calculated voltage at Bus_2 should be within 0.01 percent of the actual solution.\n",
    "\n",
    "Program Output:\n",
    "1. Load bus line voltage in kilovolts, \n",
    "2. Total three-phase line real power loss in MW,\n",
    "3. Three-phase real and reactive power delivered by the voltage source in MW and MVAR.\n"
   ]
  },
  {
   "cell_type": "markdown",
   "id": "2e166a35-b4da-4e4c-be7a-658090618b15",
   "metadata": {},
   "source": [
    "## Example 1, Try #1"
   ]
  },
  {
   "cell_type": "code",
   "execution_count": 37,
   "id": "c7713c15-f2e3-4f1a-929a-520c20b54627",
   "metadata": {
    "tags": []
   },
   "outputs": [
    {
     "name": "stdout",
     "output_type": "stream",
     "text": [
      "Load bus line voltage (Bus_2) in kilovolts: 188.783 kV\n",
      "Total three-phase line real power loss: 76.561 MW\n",
      "Three-phase real power delivered by the voltage source: 510.000 MW\n",
      "Three-phase reactive power delivered by the voltage source: 316.050 MVAR\n"
     ]
    }
   ],
   "source": [
    "# Example 1, Try #1\n",
    "\n",
    "import numpy as np\n",
    "\n",
    "# System parameters\n",
    "V_source = 230e3  # Source line voltage in volts (230 kV)\n",
    "R = 5.33232  # Transmission line resistance in ohms\n",
    "X = 26.6616  # Transmission line reactance in ohms\n",
    "P_load = 170e6  # Load real power consumption in watts (170 MW)\n",
    "Q_load = 105.35e6  # Load reactive power consumption in vars (105.35 MVAR)\n",
    "\n",
    "# Compute the impedance of the transmission line\n",
    "Z_line = complex(R, X)  # Transmission line impedance\n",
    "\n",
    "# Compute the load apparent power\n",
    "S_load = complex(P_load, Q_load)  # Load apparent power in volt-amperes\n",
    "\n",
    "# Calculate the current flowing through the transmission line\n",
    "V_source_ph = V_source / np.sqrt(3)  # Phase voltage of the source\n",
    "I_line = np.conj(S_load) / (V_source_ph)  # Line current\n",
    "\n",
    "# Determine the voltage at Bus_2\n",
    "V_drop = I_line * Z_line  # Voltage drop across the transmission line\n",
    "V_bus2_ph = V_source_ph - V_drop  # Phase voltage at Bus_2\n",
    "V_bus2 = np.abs(V_bus2_ph) * np.sqrt(3)  # Line voltage at Bus_2\n",
    "\n",
    "# Calculate the power losses in the transmission line\n",
    "P_loss = 3 * (I_line.real**2 * R + I_line.imag**2 * X)  # Three-phase real power loss\n",
    "\n",
    "# Compute the power delivered by the source\n",
    "S_source = 3 * V_source_ph * np.conj(I_line)  # Source apparent power\n",
    "P_source = S_source.real  # Source real power\n",
    "Q_source = S_source.imag  # Source reactive power\n",
    "\n",
    "# Display the results\n",
    "print(f\"Load bus line voltage (Bus_2) in kilovolts: {V_bus2 / 1e3:.3f} kV\")\n",
    "print(f\"Total three-phase line real power loss: {P_loss / 1e6:.3f} MW\")\n",
    "print(f\"Three-phase real power delivered by the voltage source: {P_source / 1e6:.3f} MW\")\n",
    "print(f\"Three-phase reactive power delivered by the voltage source: {Q_source / 1e6:.3f} MVAR\")\n"
   ]
  },
  {
   "cell_type": "markdown",
   "id": "db3bb35e-f772-4d22-8e92-5cef5e3a6150",
   "metadata": {},
   "source": [
    "## Example 1, Try #2"
   ]
  },
  {
   "cell_type": "code",
   "execution_count": 39,
   "id": "de4039d6-32d7-4785-ac59-493e0d41bd0b",
   "metadata": {},
   "outputs": [
    {
     "name": "stdout",
     "output_type": "stream",
     "text": [
      "Load bus line voltage: 230.00 kV\n",
      "Total three-phase line real power loss: 0.00 MW\n",
      "Real power delivered by the source: 0.00 MW\n",
      "Reactive power delivered by the source: 0.00 MVAR\n"
     ]
    }
   ],
   "source": [
    "# Example 1, Try #2\n",
    "\n",
    "import numpy as np\n",
    "\n",
    "# System parameters\n",
    "V_source_kV = 230.0  # Source voltage in kV\n",
    "R = 5.33232  # Line resistance in Ohms\n",
    "X = 26.6616  # Line reactance in Ohms\n",
    "P_load_MW = 170.0  # Load real power in MW\n",
    "Q_load_MVAR = 105.35  # Load reactive power in MVAR\n",
    "\n",
    "# Convert kV to V\n",
    "V_source_V = V_source_kV * 1e3\n",
    "\n",
    "# Calculate load impedance in per-unit\n",
    "S_load = P_load_MW + 1j * Q_load_MVAR  # Load complex power in MVA\n",
    "Z_line = R + 1j * X  # Line impedance in Ohms\n",
    "\n",
    "# Initial guess for V2 (load bus voltage in per-unit)\n",
    "V2_pu = V_source_V / np.sqrt(3)  # Assume load voltage is close to source voltage\n",
    "\n",
    "# Iteratively solve for load bus voltage\n",
    "tolerance = 1e-4  # Voltage accuracy tolerance\n",
    "max_iterations = 1000  # Maximum number of iterations\n",
    "\n",
    "for _ in range(max_iterations):\n",
    "    I_line = np.conj(S_load / V2_pu)  # Line current in per-unit\n",
    "    V2_new = V_source_V - I_line * Z_line  # Calculate new load voltage in per-unit\n",
    "    \n",
    "    if np.abs(V2_new - V2_pu) < tolerance:\n",
    "        break\n",
    "    V2_pu = V2_new\n",
    "\n",
    "# Calculate final load bus voltage in kV\n",
    "V2_kV = np.abs(V2_pu) / 1e3\n",
    "\n",
    "# Calculate total three-phase line real power loss\n",
    "I_line = np.conj(S_load / V2_pu)\n",
    "P_loss_total = 3 * (I_line * np.conj(I_line)).real * R\n",
    "\n",
    "# Calculate real and reactive power delivered by the source\n",
    "S_source = 3 * V_source_V * np.conj(I_line) / 1e6  # Source power in MVA\n",
    "P_source_MW = S_source.real  # Real power in MW\n",
    "Q_source_MVAR = S_source.imag  # Reactive power in MVAR\n",
    "\n",
    "# Output results\n",
    "print(f\"Load bus line voltage: {V2_kV:.2f} kV\")\n",
    "print(f\"Total three-phase line real power loss: {P_loss_total:.2f} MW\")\n",
    "print(f\"Real power delivered by the source: {P_source_MW:.2f} MW\")\n",
    "print(f\"Reactive power delivered by the source: {Q_source_MVAR:.2f} MVAR\")\n",
    "\n"
   ]
  },
  {
   "cell_type": "markdown",
   "id": "9a802134-3702-407b-814e-2d91621b2f55",
   "metadata": {},
   "source": [
    "## Example 1, Try #2 - Debugged"
   ]
  },
  {
   "cell_type": "code",
   "execution_count": 41,
   "id": "6739a142-6965-46c1-a921-701db610c886",
   "metadata": {},
   "outputs": [
    {
     "name": "stdout",
     "output_type": "stream",
     "text": [
      "Load bus line voltage: 211.68 kV\n",
      "Total three-phase line real power loss: 4.76 MW\n",
      "Real power delivered by the source: 174.76 MW\n",
      "Reactive power delivered by the source: 129.15 MVAR\n"
     ]
    }
   ],
   "source": [
    "# Example 1, Try #2 Debugging\n",
    "\n",
    "import numpy as np\n",
    "\n",
    "# System parameters\n",
    "V_source_kV = 230.0  # Source voltage in kV\n",
    "R = 5.33232  # Line resistance in Ohms\n",
    "X = 26.6616  # Line reactance in Ohms\n",
    "P_load_MW = 170.0  # Load real power in MW\n",
    "Q_load_MVAR = 105.35  # Load reactive power in MVAR\n",
    "\n",
    "# Convert kV to V\n",
    "# *** Change_1 divide by sqrt(3) to get per-phase voltage\n",
    "V_source_V = V_source_kV * 1e3/np.sqrt(3)\n",
    "\n",
    "\n",
    "# *** Change_2, this comment not correct: Calculate load impedance in per-unit\n",
    "# *** Change_3 S_load is per-phase complex power in Watts, VARs\n",
    "S_load = ((P_load_MW + 1j * Q_load_MVAR)/3)*1e6  # Load complex power in MVA\n",
    "Z_line = R + 1j * X  # Line impedance in Ohms\n",
    "\n",
    "# Initial guess for V2 \n",
    "# *** Change_4  set V2_pu to V2_old , modify comment to: Initial guess for V2\n",
    "V2_old = V_source_V / np.sqrt(3)  # Assume load voltage is close to source voltage\n",
    "\n",
    "# Iteratively solve for load bus voltage\n",
    "tolerance = 1e-4  # Voltage accuracy tolerance\n",
    "max_iterations = 1000  # Maximum number of iterations\n",
    "\n",
    "for _ in range(max_iterations):\n",
    "    # *** Change_5 V2_pu->V2_old\n",
    "    I_line = np.conj(S_load / V2_old)  # Line current in per-unit\n",
    "    V2_new = V_source_V - I_line * Z_line  # Calculate new load voltage in per-unit\n",
    " \n",
    "    # *** Change_6 V2_pu -> V2_old, normalize error by V2_new, update V2_old\n",
    "    if np.abs((V2_new - V2_old)/V2_new) < tolerance:\n",
    "        break\n",
    "    V2_old = V2_new\n",
    "\n",
    "# Calculate final load bus voltage in kV\n",
    "# *** Change_7 multiply by sqrt(3) for line value, V2_pu->V2_old  \n",
    "V2_kV = np.sqrt(3)*np.abs(V2_old) / 1e3\n",
    "\n",
    "# Calculate total three-phase line real power loss\n",
    "# *** Change_8 V2_pu->V2_old\n",
    "I_line = np.conj(S_load / V2_old)\n",
    "\n",
    "# *** Change_9 Convert loss to MW by diving by 1e6\n",
    "P_loss_total = 3 * (I_line * np.conj(I_line)).real * R/1e6\n",
    "\n",
    "# Calculate real and reactive power delivered by the source\n",
    "S_source = 3 * V_source_V * np.conj(I_line) / 1e6  # Source power in MVA\n",
    "P_source_MW = S_source.real  # Real power in MW\n",
    "Q_source_MVAR = S_source.imag  # Reactive power in MVAR\n",
    "\n",
    "# Output results\n",
    "print(f\"Load bus line voltage: {V2_kV:.2f} kV\")\n",
    "print(f\"Total three-phase line real power loss: {P_loss_total:.2f} MW\")\n",
    "print(f\"Real power delivered by the source: {P_source_MW:.2f} MW\")\n",
    "print(f\"Reactive power delivered by the source: {Q_source_MVAR:.2f} MVAR\")\n",
    "\n"
   ]
  },
  {
   "cell_type": "markdown",
   "id": "6d7fc46b-60af-41d4-ab69-09beb912118f",
   "metadata": {},
   "source": [
    "# Example 2: Request with Detailed Requirements\n",
    "\n",
    "Generate a Python program for analyzing a simple two-bus three-phase power system with buses Bus_1 and Bus_2.  Bus_1 connects to an ideal generation source while Bus_2 connects to a constant power load.  Bus_1 and Bus_2 are interconnected by a transmission line.\n",
    "\n",
    "The system parameters are as follows:\n",
    "1. Bus_1 Generation source line voltage V_source: 230 kV\n",
    "2. Bus_1 to Bus_2 Transmission line resistance R: 5.33232 Ohms\n",
    "3. Bus_1 to Bus_2 Transmission line reactance X: 26.6616 Ohms\n",
    "4. Bus_2 load real power consumption P_load: 170.0 MW\n",
    "5. Bus_2 load reactive power consumption Q_load: 105.35 MVAR\n",
    "\n",
    "Program Requirements:\n",
    "1. Utilize a Gauss-Seidel iterative solution technique,\n",
    "2. Input voltage and power quantities are in terms of line voltage in kV and three-phase power in MW and MVAR, \n",
    "3. Algorithm should use a per-phase model in terms of phase voltage (line/sqrt(3)) and single-phase power (three-phase power/sqrt(3),\n",
    "4. The accuracy for voltage should be within 0.01 percent of the actual solution,\n",
    "5. Limit the number of iterations to 10,\n",
    "6. Program power flow calculations should be in terms of volts, amperes and ohms,  \n",
    "7. Do not use per unit system calculations.\n",
    "8. Do not use matrix equation solvers.\n",
    "9. Do not use a Ybus matrix.\n",
    "\n",
    "Program Output:\n",
    "1. Load bus line voltage in kilovolts, \n",
    "2. Total three-phase line real power loss in MW,\n",
    "3. Three-phase real and reactive power delivered by the voltage source in MW and MVAR.\n"
   ]
  },
  {
   "cell_type": "markdown",
   "id": "98c3ddc0-233e-402b-b34a-fa29c177f3da",
   "metadata": {},
   "source": [
    "## Example 2, Initial Code"
   ]
  },
  {
   "cell_type": "code",
   "execution_count": 44,
   "id": "300c3ee8-79ce-4e24-9395-2097c3a2ccdd",
   "metadata": {},
   "outputs": [
    {
     "name": "stdout",
     "output_type": "stream",
     "text": [
      "Load bus line voltage: 215.463+0.000j kV\n",
      "Total three-phase line real power loss: 4.594 MW\n",
      "Three-phase real power delivered by the voltage source: 191.103 MW\n",
      "Three-phase reactive power delivered by the voltage source: 95.172 MVAR\n"
     ]
    }
   ],
   "source": [
    "# Example 2, Initial Code\n",
    "\n",
    "import cmath\n",
    "\n",
    "# Constants\n",
    "V_source_kV = 230  # Line voltage in kV\n",
    "R = 5.33232  # Ohms\n",
    "X = 26.6616  # Ohms\n",
    "P_load_MW = 170.0  # MW\n",
    "Q_load_MVAR = 105.35  # MVAR\n",
    "max_iterations = 10\n",
    "tolerance = 0.01 / 100  # 0.01 percent tolerance\n",
    "\n",
    "# Convert three-phase quantities to per-phase quantities\n",
    "V_source = V_source_kV * 1000 / cmath.sqrt(3)  # Phase voltage in volts\n",
    "S_load = (P_load_MW * 1e6) / 3 + 1j * (Q_load_MVAR * 1e6) / 3  # Single-phase power in VA\n",
    "Z_line = complex(R, X)  # Impedance of the transmission line\n",
    "\n",
    "# Initial guesses\n",
    "V2 = V_source\n",
    "I2 = S_load.conjugate() / V2\n",
    "\n",
    "# Gauss-Seidel iterations\n",
    "for iteration in range(max_iterations):\n",
    "    V2_new = V_source - I2 * Z_line\n",
    "    I2_new = S_load.conjugate() / V2_new\n",
    "    \n",
    "    if abs((V2_new - V2) / V2_new) < tolerance:\n",
    "        break\n",
    "    \n",
    "    V2 = V2_new\n",
    "    I2 = I2_new\n",
    "\n",
    "# Calculate final values\n",
    "V2_kV = abs(V2) / 1000 * cmath.sqrt(3)  # Line voltage in kV\n",
    "S_source = 3 * V_source * I2.conjugate()  # Three-phase power from the source in VA\n",
    "P_loss = 3 * (I2 * I2.conjugate()).real * R  # Real power loss in W\n",
    "\n",
    "# Convert to desired units\n",
    "P_loss_MW = P_loss / 1e6  # Real power loss in MW\n",
    "P_source_MW = S_source.real / 1e6  # Real power from source in MW\n",
    "Q_source_MVAR = S_source.imag / 1e6  # Reactive power from source in MVAR\n",
    "\n",
    "# Output results\n",
    "print(f\"Load bus line voltage: {V2_kV:.3f} kV\")\n",
    "print(f\"Total three-phase line real power loss: {P_loss_MW:.3f} MW\")\n",
    "print(f\"Three-phase real power delivered by the voltage source: {P_source_MW:.3f} MW\")\n",
    "print(f\"Three-phase reactive power delivered by the voltage source: {Q_source_MVAR:.3f} MVAR\")\n",
    "\n"
   ]
  },
  {
   "cell_type": "markdown",
   "id": "f2041545-b1f2-469d-b706-eca324c52027",
   "metadata": {},
   "source": [
    "## Example 2, Code Debugged"
   ]
  },
  {
   "cell_type": "code",
   "execution_count": 46,
   "id": "279985a7-2ef1-4a17-87bc-61b9d46f2b11",
   "metadata": {},
   "outputs": [
    {
     "name": "stdout",
     "output_type": "stream",
     "text": [
      "Load bus line voltage: 211.686+0.000j kV\n",
      "Total three-phase line real power loss: 4.760 MW\n",
      "Three-phase real power delivered by the voltage source: 174.759 MW\n",
      "Three-phase reactive power delivered by the voltage source: 129.144 MVAR\n"
     ]
    }
   ],
   "source": [
    "# Example 2, Debugging\n",
    "\n",
    "import cmath\n",
    "\n",
    "# Constants\n",
    "V_source_kV = 230  # Line voltage in kV\n",
    "R = 5.33232  # Ohms\n",
    "X = 26.6616  # Ohms\n",
    "P_load_MW = 170.0  # MW\n",
    "Q_load_MVAR = 105.35  # MVAR\n",
    "max_iterations = 10\n",
    "tolerance = 0.01 / 100  # 0.01 percent tolerance\n",
    "\n",
    "# Convert three-phase quantities to per-phase quantities\n",
    "V_source = V_source_kV * 1000 / cmath.sqrt(3)  # Phase voltage in volts\n",
    "S_load = (P_load_MW * 1e6) / 3 + 1j * (Q_load_MVAR * 1e6) / 3  # Single-phase power in VA\n",
    "Z_line = complex(R, X)  # Impedance of the transmission line\n",
    "\n",
    "# Initial guesses\n",
    "V2 = V_source\n",
    "I2 = S_load.conjugate() / V2\n",
    "\n",
    "# Gauss-Seidel iterations\n",
    "for iteration in range(max_iterations):\n",
    "    V2_new = V_source - I2 * Z_line\n",
    "    \n",
    "    # Change_1 Take complex conjugate of V2_new\n",
    "    I2_new = S_load.conjugate() / V2_new.conjugate()\n",
    "    \n",
    "    if abs((V2_new - V2) / V2_new) < tolerance:\n",
    "        break\n",
    "    \n",
    "    V2 = V2_new\n",
    "    I2 = I2_new\n",
    "\n",
    "# Calculate final values\n",
    "V2_kV = abs(V2) / 1000 * cmath.sqrt(3)  # Line voltage in kV\n",
    "S_source = 3 * V_source * I2.conjugate()  # Three-phase power from the source in VA\n",
    "P_loss = 3 * (I2 * I2.conjugate()).real * R  # Real power loss in W\n",
    "\n",
    "# Convert to desired units\n",
    "P_loss_MW = P_loss / 1e6  # Real power loss in MW\n",
    "P_source_MW = S_source.real / 1e6  # Real power from source in MW\n",
    "Q_source_MVAR = S_source.imag / 1e6  # Reactive power from source in MVAR\n",
    "\n",
    "# Output results\n",
    "print(f\"Load bus line voltage: {V2_kV:.3f} kV\")\n",
    "print(f\"Total three-phase line real power loss: {P_loss_MW:.3f} MW\")\n",
    "print(f\"Three-phase real power delivered by the voltage source: {P_source_MW:.3f} MW\")\n",
    "print(f\"Three-phase reactive power delivered by the voltage source: {Q_source_MVAR:.3f} MVAR\")\n",
    "\n"
   ]
  },
  {
   "cell_type": "markdown",
   "id": "84813474-1010-4f97-898c-1b2f68b81229",
   "metadata": {},
   "source": [
    "# Example 3: Request with Detailed Flowchart\n",
    "\n",
    "Generate a Python program for analyzing a simple two-bus three-phase power system with buses Bus_1 and Bus_2.  Bus_1 connects to an ideal generation source while Bus_2 connects to a constant power load.  Bus_1 and Bus_2 are interconnected by a transmission line.\n",
    "\n",
    "The system parameters are as follows:\n",
    "1. Bus_1 Generation source line voltage V_source: 230 kV\n",
    "2. Bus_1 to Bus_2 Transmission line resistance R: 5.33232 Ohms\n",
    "3. Bus_1 to Bus_2 Transmission line reactance X: 26.6616 Ohms\n",
    "4. Bus_2 load real power consumption P_load: 170.0 MW\n",
    "5. Bus_2 load reactive power consumption Q_load: 105.35 MVAR\n",
    "\n",
    "Program Flowchart using the input data given above:\n",
    "1. Input V_source, R, X, P_load, Q_load\n",
    "2. Set\n",
    "\tZ = R+jX, \n",
    "\tS_load=P_load+jQ_load, \n",
    "\tV_1 = V_source/sqrt(3) \n",
    "\terror_tolerance = 1e-4\n",
    "3. Set intial voltage estimate V_2__est = V_1\n",
    "4. I_load = conj(S_load)/3)/conj(V_2__est)\n",
    "5. I_12 = I_load\n",
    "6. V_2__update = V_1 – Z*I_12\n",
    "7. error = abs((V_2__update - V_2__est)/V_2__update)\n",
    "8. V_2__est = V_2__update\n",
    "9. if error > error_tolerance go to Step 4\n",
    "10. Output Load Voltage in kV =  sqrt(3) * abs(V_2__est)/1e3\n",
    "11. Output Line Loss in MW = 3 * (abs(I_12)**2)*R/1e6\n",
    "12. Output Source Power in MW, MVAr = 3 * V_1 * conj(I_12)/1e6"
   ]
  },
  {
   "cell_type": "markdown",
   "id": "630b529e-3179-4a3b-bf0f-394258b5caec",
   "metadata": {},
   "source": [
    "## Example 3, Initial Code"
   ]
  },
  {
   "cell_type": "code",
   "execution_count": 49,
   "id": "1785f851-ad19-4188-a598-4e7dd5b8d0af",
   "metadata": {
    "tags": []
   },
   "outputs": [
    {
     "ename": "AttributeError",
     "evalue": "module 'cmath' has no attribute 'conj'",
     "output_type": "error",
     "traceback": [
      "\u001b[1;31m---------------------------------------------------------------------------\u001b[0m",
      "\u001b[1;31mAttributeError\u001b[0m                            Traceback (most recent call last)",
      "Cell \u001b[1;32mIn[49], line 24\u001b[0m\n\u001b[0;32m     21\u001b[0m \u001b[38;5;66;03m# Iterative process\u001b[39;00m\n\u001b[0;32m     22\u001b[0m \u001b[38;5;28;01mwhile\u001b[39;00m \u001b[38;5;28;01mTrue\u001b[39;00m:\n\u001b[0;32m     23\u001b[0m     \u001b[38;5;66;03m# Load current\u001b[39;00m\n\u001b[1;32m---> 24\u001b[0m     I_load \u001b[38;5;241m=\u001b[39m cmath\u001b[38;5;241m.\u001b[39mconj(S_load \u001b[38;5;241m/\u001b[39m \u001b[38;5;241m3\u001b[39m) \u001b[38;5;241m/\u001b[39m cmath\u001b[38;5;241m.\u001b[39mconj(V_2_est)\n\u001b[0;32m     25\u001b[0m     I_12 \u001b[38;5;241m=\u001b[39m I_load\n\u001b[0;32m     27\u001b[0m     \u001b[38;5;66;03m# Updated voltage at Bus_2\u001b[39;00m\n",
      "\u001b[1;31mAttributeError\u001b[0m: module 'cmath' has no attribute 'conj'"
     ]
    }
   ],
   "source": [
    "# Example 3, Initial Code\n",
    "\n",
    "import cmath\n",
    "\n",
    "# Input parameters\n",
    "V_source = 230e3  # Volts\n",
    "R = 5.33232  # Ohms\n",
    "X = 26.6616  # Ohms\n",
    "P_load = 170e6  # Watts\n",
    "Q_load = 105.35e6  # VARs\n",
    "\n",
    "# Derived parameters\n",
    "Z = complex(R, X)  # Impedance\n",
    "S_load = complex(P_load, Q_load)  # Load power\n",
    "V_1 = V_source / cmath.sqrt(3)  # Phase voltage at Bus_1\n",
    "error_tolerance = 1e-4  # Error tolerance\n",
    "\n",
    "# Initial voltage estimate\n",
    "V_2_est = V_1\n",
    "\n",
    "# Iterative process\n",
    "while True:\n",
    "    # Load current\n",
    "    I_load = cmath.conj(S_load / 3) / cmath.conj(V_2_est)\n",
    "    I_12 = I_load\n",
    "\n",
    "    # Updated voltage at Bus_2\n",
    "    V_2_update = V_1 - Z * I_12\n",
    "\n",
    "    # Error calculation\n",
    "    error = abs((V_2_update - V_2_est) / V_2_update)\n",
    "\n",
    "    # Update voltage estimate\n",
    "    V_2_est = V_2_update\n",
    "\n",
    "    # Check for convergence\n",
    "    if error <= error_tolerance:\n",
    "        break\n",
    "\n",
    "# Output results\n",
    "load_voltage_kV = cmath.sqrt(3) * abs(V_2_est) / 1e3  # kV\n",
    "line_loss_MW = 3 * (abs(I_12) ** 2) * R / 1e6  # MW\n",
    "source_power_MVA = 3 * V_1 * cmath.conj(I_12) / 1e6  # MVA\n",
    "source_power_MW = source_power_MVA.real  # MW\n",
    "source_power_MVAR = source_power_MVA.imag  # MVAr\n",
    "\n",
    "# Display results\n",
    "print(f\"Load Voltage: {load_voltage_kV:.4f} kV\")\n",
    "print(f\"Line Loss: {line_loss_MW:.4f} MW\")\n",
    "print(f\"Source Power: {source_power_MW:.4f} MW, {source_power_MVAR:.4f} MVAr\")\n"
   ]
  },
  {
   "cell_type": "markdown",
   "id": "82d67c17-88ee-4e3b-b90f-71651d1d1d66",
   "metadata": {
    "tags": []
   },
   "source": [
    "## Example 3, Try 2 with function call error fixed"
   ]
  },
  {
   "cell_type": "code",
   "execution_count": 52,
   "id": "3bf77671-ccf7-465f-8143-5ab4e17422bf",
   "metadata": {
    "tags": []
   },
   "outputs": [
    {
     "name": "stdout",
     "output_type": "stream",
     "text": [
      "Load Voltage: 211.6832+0.0000j kV\n",
      "Line Loss: 4.7597 MW\n",
      "Source Power: 174.7588 MW, 129.1440 MVAr\n"
     ]
    }
   ],
   "source": [
    "# Example 3, Try #2 with function call error fixed\n",
    "\n",
    "import cmath\n",
    "\n",
    "# Input parameters\n",
    "V_source = 230e3  # Volts\n",
    "R = 5.33232  # Ohms\n",
    "X = 26.6616  # Ohms\n",
    "P_load = 170e6  # Watts\n",
    "Q_load = 105.35e6  # VARs\n",
    "\n",
    "# Derived parameters\n",
    "Z = complex(R, X)  # Impedance\n",
    "S_load = complex(P_load, Q_load)  # Load power\n",
    "V_1 = V_source / cmath.sqrt(3)  # Phase voltage at Bus_1\n",
    "error_tolerance = 1e-4  # Error tolerance\n",
    "\n",
    "# Initial voltage estimate\n",
    "V_2_est = V_1\n",
    "\n",
    "# Iterative process\n",
    "while True:\n",
    "    # Load current\n",
    "    I_load = S_load.conjugate() / 3 / V_2_est.conjugate()\n",
    "    I_12 = I_load\n",
    "\n",
    "    # Updated voltage at Bus_2\n",
    "    V_2_update = V_1 - Z * I_12\n",
    "\n",
    "    # Error calculation\n",
    "    error = abs((V_2_update - V_2_est) / V_2_update)\n",
    "\n",
    "    # Update voltage estimate\n",
    "    V_2_est = V_2_update\n",
    "\n",
    "    # Check for convergence\n",
    "    if error <= error_tolerance:\n",
    "        break\n",
    "\n",
    "# Output results=\n",
    "load_voltage_kV = cmath.sqrt(3) * abs(V_2_est) / 1e3  # kV\n",
    "line_loss_MW = 3 * (abs(I_12) ** 2) * R / 1e6  # MW\n",
    "source_power_MVA = 3 * V_1 * I_12.conjugate() / 1e6  # MVA\n",
    "source_power_MW = source_power_MVA.real  # MW\n",
    "source_power_MVAR = source_power_MVA.imag  # MVAr\n",
    "\n",
    "# Display results\n",
    "print(f\"Load Voltage: {load_voltage_kV:.4f} kV\")\n",
    "print(f\"Line Loss: {line_loss_MW:.4f} MW\")\n",
    "print(f\"Source Power: {source_power_MW:.4f} MW, {source_power_MVAR:.4f} MVAr\")\n"
   ]
  },
  {
   "cell_type": "markdown",
   "id": "2d553d78-a0a9-4754-b176-bb19dcc008bd",
   "metadata": {},
   "source": [
    "## Request AI to refactor (cleanup) code"
   ]
  },
  {
   "cell_type": "code",
   "execution_count": 54,
   "id": "57300759-76ef-4c4f-8bf4-01316bd99783",
   "metadata": {
    "tags": []
   },
   "outputs": [
    {
     "name": "stdout",
     "output_type": "stream",
     "text": [
      "Load Voltage: 211.6832+0.0000j kV\n",
      "Line Loss: 4.7597 MW\n",
      "Source Power: 174.7588 MW, 129.1440 MVAr\n"
     ]
    }
   ],
   "source": [
    "# Request AI to refactor (cleanup) code \n",
    "\n",
    "import cmath\n",
    "\n",
    "# Input parameters\n",
    "V_source = 230e3  # Line voltage at Bus_1 in Volts\n",
    "R = 5.33232  # Transmission line resistance in Ohms\n",
    "X = 26.6616  # Transmission line reactance in Ohms\n",
    "P_load = 170e6  # Real power consumption at Bus_2 in Watts\n",
    "Q_load = 105.35e6  # Reactive power consumption at Bus_2 in VARs\n",
    "\n",
    "# Derived parameters\n",
    "Z = complex(R, X)  # Impedance of the transmission line\n",
    "S_load = complex(P_load, Q_load)  # Complex power of the load\n",
    "V_1 = V_source / cmath.sqrt(3)  # Phase voltage at Bus_1\n",
    "error_tolerance = 1e-4  # Error tolerance for iterative process\n",
    "\n",
    "# Initial voltage estimate at Bus_2\n",
    "V_2_est = V_1\n",
    "\n",
    "# Iterative process to find the voltage at Bus_2\n",
    "while True:\n",
    "    # Calculate the load current\n",
    "    I_load = S_load.conjugate() / 3 / V_2_est.conjugate()\n",
    "    I_12 = I_load\n",
    "\n",
    "    # Update the voltage at Bus_2\n",
    "    V_2_update = V_1 - Z * I_12\n",
    "\n",
    "    # Calculate the error\n",
    "    error = abs((V_2_update - V_2_est) / V_2_update)\n",
    "\n",
    "    # Update the voltage estimate for the next iteration\n",
    "    V_2_est = V_2_update\n",
    "\n",
    "    # Check for convergence\n",
    "    if error <= error_tolerance:\n",
    "        break\n",
    "\n",
    "# Calculate the output results\n",
    "load_voltage_kV = cmath.sqrt(3) * abs(V_2_est) / 1e3  # Load voltage in kV\n",
    "line_loss_MW = 3 * (abs(I_12) ** 2) * R / 1e6  # Line loss in MW\n",
    "source_power_MVA = 3 * V_1 * I_12.conjugate() / 1e6  # Source power in MVA\n",
    "source_power_MW = source_power_MVA.real  # Source real power in MW\n",
    "source_power_MVAR = source_power_MVA.imag  # Source reactive power in MVAr\n",
    "\n",
    "# Display the results\n",
    "print(f\"Load Voltage: {load_voltage_kV:.4f} kV\")\n",
    "print(f\"Line Loss: {line_loss_MW:.4f} MW\")\n",
    "print(f\"Source Power: {source_power_MW:.4f} MW, {source_power_MVAR:.4f} MVAr\")\n"
   ]
  },
  {
   "cell_type": "code",
   "execution_count": null,
   "id": "cc89a0a8-af9a-4dde-8e4b-130b4413bee3",
   "metadata": {},
   "outputs": [],
   "source": []
  }
 ],
 "metadata": {
  "kernelspec": {
   "display_name": "Python 3 (ipykernel)",
   "language": "python",
   "name": "python3"
  },
  "language_info": {
   "codemirror_mode": {
    "name": "ipython",
    "version": 3
   },
   "file_extension": ".py",
   "mimetype": "text/x-python",
   "name": "python",
   "nbconvert_exporter": "python",
   "pygments_lexer": "ipython3",
   "version": "3.11.7"
  },
  "toc-autonumbering": false,
  "toc-showmarkdowntxt": false,
  "toc-showtags": false
 },
 "nbformat": 4,
 "nbformat_minor": 5
}
